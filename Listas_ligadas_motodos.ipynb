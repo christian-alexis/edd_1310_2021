{
  "nbformat": 4,
  "nbformat_minor": 0,
  "metadata": {
    "colab": {
      "name": "Listas_ligadas_motodos.ipynb",
      "provenance": [],
      "authorship_tag": "ABX9TyP+zAfCXvLzklFEqYatHpQc",
      "include_colab_link": true
    },
    "kernelspec": {
      "name": "python3",
      "display_name": "Python 3"
    }
  },
  "cells": [
    {
      "cell_type": "markdown",
      "metadata": {
        "id": "view-in-github",
        "colab_type": "text"
      },
      "source": [
        "<a href=\"https://colab.research.google.com/github/christian-alexis/edd_1310_2021/blob/master/Listas_ligadas_motodos.ipynb\" target=\"_parent\"><img src=\"https://colab.research.google.com/assets/colab-badge.svg\" alt=\"Open In Colab\"/></a>"
      ]
    },
    {
      "cell_type": "code",
      "metadata": {
        "id": "u0lptao4iX4J"
      },
      "source": [
        "class Nodo:\n",
        "    def __init__( self , value , siguiente= None):\n",
        "        self.data = value       # falta encapsulamiento\n",
        "        self.siguiente = siguiente\n",
        "\n",
        "class LinkedList:\n",
        "    def __init__( self ):   \n",
        "        self.__head = None\n",
        "\n",
        "    def is_empty( self ):\n",
        "        return self.__head == None\n",
        "\n",
        "    def append( self , value ): #Agrega valores\n",
        "        nuevo = Nodo( value )\n",
        "        if self.__head == None: # self.is_empty()\n",
        "            self.__head = nuevo\n",
        "        else:\n",
        "            curr_node = self.__head\n",
        "            while curr_node.siguiente != None:\n",
        "                curr_node = curr_node.siguiente\n",
        "            curr_node.siguiente = nuevo\n",
        "\n",
        "    def transversal( self ):  #Imprime los nodos \n",
        "        curr_node = self.__head\n",
        "        while curr_node != None:\n",
        "            print(f\" { curr_node.data } -> \" , end=\"\")\n",
        "            curr_node = curr_node.siguiente\n",
        "        print(\" \")\n",
        "\n",
        "    def remove( self , value ): #Remueve la primera coincidencia \n",
        "        curr_node = self.__head\n",
        "        if self.__head.data == value:\n",
        "            self.__head = self.__head.siguiente\n",
        "        else:\n",
        "            anterior = None \n",
        "            while curr_node.data != value and curr_node.siguiente != None:\n",
        "                anterior = curr_node\n",
        "                curr_node= curr_node.siguiente\n",
        "            if curr_node.data == value:\n",
        "                 anterior.siguiente= curr_node.siguiente\n",
        "            else: \n",
        "                 print(\"el dato no existe en la lista\")\n",
        "\n",
        "    def  preppend (self, value):  #Agrega un valor nuevo al inicio\n",
        "        nuevo = Nodo(value, self.__head)\n",
        "        self.__head = nuevo \n",
        "\n",
        "    def tail ( self ):  #Imprime el ultimo  nodo \n",
        "        curr_node = self.__head\n",
        "        while curr_node.siguiente != None:\n",
        "            curr_node = curr_node.siguiente\n",
        "        return curr_node\n",
        "\n",
        "    def get (self, posicion= None): #Por defecto regresa el ultimo \n",
        "        contador=0\n",
        "        dato= None\n",
        "        \n",
        "        if posicion == None:\n",
        "            dato = self.tail().data\n",
        "        else:\n",
        "            curr_node = self.__head\n",
        "                \n",
        "            while contador != posicion:\n",
        "                    curr_node= curr_node.siguiente\n",
        "                    contador= contador + 1\n",
        "            dato= curr_node.data\n",
        "            \n",
        "                \n",
        "            \n",
        "                \n",
        "\n",
        "        return dato\n",
        "            \n",
        "            \n"
      ],
      "execution_count": 1,
      "outputs": []
    },
    {
      "cell_type": "code",
      "metadata": {
        "colab": {
          "base_uri": "https://localhost:8080/"
        },
        "id": "mFohq6h3icVC",
        "outputId": "2174eadb-6c19-4474-c422-e5a25fac91c3"
      },
      "source": [
        "l = LinkedList()\n",
        "print(f\"La esta vacia ? { l.is_empty() } \")\n",
        "l.append(10)\n",
        "l.append(5)\n",
        "l.append(6)\n",
        "l.append(20)\n",
        "print(f\"La esta vacia ? { l.is_empty() } \")\n",
        "l.transversal()\n",
        "l.remove(10)\n",
        "l.transversal()\n",
        "l.preppend(3)\n",
        "l.transversal()\n",
        "\n",
        "x = l.tail()\n",
        "\n",
        "print(x.data)\n",
        "\n",
        "print(l.get(2))\n",
        "\n"
      ],
      "execution_count": 3,
      "outputs": [
        {
          "output_type": "stream",
          "text": [
            "La esta vacia ? True \n",
            "La esta vacia ? False \n",
            " 10 ->  5 ->  6 ->  20 ->  \n",
            " 5 ->  6 ->  20 ->  \n",
            " 3 ->  5 ->  6 ->  20 ->  \n",
            "20\n",
            "6\n"
          ],
          "name": "stdout"
        }
      ]
    }
  ]
}