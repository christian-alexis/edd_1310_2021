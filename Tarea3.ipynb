{
  "nbformat": 4,
  "nbformat_minor": 0,
  "metadata": {
    "colab": {
      "name": "Tarea3.ipynb",
      "provenance": [],
      "authorship_tag": "ABX9TyPYY/qyK5j5yDyMSqWzIFv5",
      "include_colab_link": true
    },
    "kernelspec": {
      "name": "python3",
      "display_name": "Python 3"
    }
  },
  "cells": [
    {
      "cell_type": "markdown",
      "metadata": {
        "id": "view-in-github",
        "colab_type": "text"
      },
      "source": [
        "<a href=\"https://colab.research.google.com/github/christian-alexis/edd_1310_2021/blob/master/Tarea3.ipynb\" target=\"_parent\"><img src=\"https://colab.research.google.com/assets/colab-badge.svg\" alt=\"Open In Colab\"/></a>"
      ]
    },
    {
      "cell_type": "code",
      "metadata": {
        "id": "IRlgueKciuak",
        "outputId": "65fef33c-2947-4315-a9c9-124ab0296452",
        "colab": {
          "base_uri": "https://localhost:8080/",
          "height": 102
        }
      },
      "source": [
        "class Persona:\n",
        "  def __init__(self ,nom,ed,es,dor,com):\n",
        "    self.__Nombre = nom\n",
        "    self.__Edad = ed\n",
        "    self.__Estatura = es\n",
        "    self.__Dormir = dor\n",
        "    self.__Comer = com\n",
        "\n",
        "  def dormir(self):\n",
        "      return self.__Dormir\n",
        "\n",
        "\n",
        "  def comer(self):\n",
        "       return self.__Comer\n",
        "    \n",
        "\n",
        "  def to_string(self):\n",
        "    return \"El nombre de la persona es:\" + self.__Nombre + \"\\nEl tiene \" + self.__Edad + \" años\" + \"\\nEl mide \" + self.__Estatura + \" metros\" \n",
        "  \n",
        "  \n",
        "\n",
        "per = Persona(\"Christian Alexis Solis Morales\",\"20\",\"1.67\", \"la persona no duerme por hacaer tarea :(\", \"La persona si come :)\") \n",
        "print(per.to_string())\n",
        "print(per.dormir())\n",
        "print(per.comer())\n",
        "\n",
        "\n",
        "\n",
        "\n"
      ],
      "execution_count": 89,
      "outputs": [
        {
          "output_type": "stream",
          "text": [
            "El nombre de la persona es:Christian Alexis Solis Morales\n",
            "El tiene 20 años\n",
            "El mide 1.67 metros\n",
            "la persona no duerme por hacaer tarea :(\n",
            "La persona si come :)\n"
          ],
          "name": "stdout"
        }
      ]
    },
    {
      "cell_type": "code",
      "metadata": {
        "id": "HFYnqyfh0fad",
        "outputId": "edcb5596-82ab-4dd2-9d65-fefd281ca100",
        "colab": {
          "base_uri": "https://localhost:8080/",
          "height": 102
        }
      },
      "source": [
        "class Celular:\n",
        "  def __init__(self ,mar,mol,cap,llam,alar):\n",
        "    self.__Marca = mar\n",
        "    self.__Modelo = mol\n",
        "    self.__Capacidad = cap\n",
        "    self.__Llamar = llam\n",
        "    self.__Alarma = alar\n",
        "\n",
        "  def llamar(self):\n",
        "      return self.__Llamar\n",
        "\n",
        "\n",
        "  def alarma(self):\n",
        "       return self.__Alarma\n",
        "    \n",
        "\n",
        "  def to_string(self):\n",
        "    return \"La marca de celular es:\" + self.__Marca + \"\\nEl modelo es: \" + self.__Modelo +\"\\nTiene un espacio de memoria de: \" + self.__Capacidad + \" GB\" \n",
        "  \n",
        "  \n",
        "\n",
        "cel= Celular(\" iphone\",\"11 pro\",\"64\", \"El telefono puede llamar, no esta reportado como robado\", \"El celular puede poner alamarma para despertar \") \n",
        "print(cel.to_string())\n",
        "print(cel.llamar())\n",
        "print(cel.alarma())\n",
        "\n"
      ],
      "execution_count": 84,
      "outputs": [
        {
          "output_type": "stream",
          "text": [
            "La marca de celular es: iphone\n",
            "El modelo es: 11 pro\n",
            "Tiene un espacio de memoria de: 64 GB\n",
            "El telefono puede llamar, no esta reportado como robado\n",
            "El celular puede poner alamarma para despertar \n"
          ],
          "name": "stdout"
        }
      ]
    }
  ]
}