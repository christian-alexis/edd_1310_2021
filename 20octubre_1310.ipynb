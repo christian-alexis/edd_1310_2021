{
  "nbformat": 4,
  "nbformat_minor": 0,
  "metadata": {
    "colab": {
      "name": "20octubre_1310.ipynb",
      "provenance": [],
      "authorship_tag": "ABX9TyOE1I0uQIjyBAHsJRK/aeK9",
      "include_colab_link": true
    },
    "kernelspec": {
      "name": "python3",
      "display_name": "Python 3"
    }
  },
  "cells": [
    {
      "cell_type": "markdown",
      "metadata": {
        "id": "view-in-github",
        "colab_type": "text"
      },
      "source": [
        "<a href=\"https://colab.research.google.com/github/christian-alexis/edd_1310_2021/blob/master/20octubre_1310.ipynb\" target=\"_parent\"><img src=\"https://colab.research.google.com/assets/colab-badge.svg\" alt=\"Open In Colab\"/></a>"
      ]
    },
    {
      "cell_type": "code",
      "metadata": {
        "id": "VJZQUzPGu1o4",
        "outputId": "420e44b9-cf22-4de8-a055-90be9fcc2afb",
        "colab": {
          "base_uri": "https://localhost:8080/",
          "height": 272
        }
      },
      "source": [
        "archivo = open('numeros.txt','rt')\n",
        "for linea in archivo.readlines():\n",
        "  for trunc in linea.split(','):\n",
        "    print(int (trunc.strip()))\n"
      ],
      "execution_count": 9,
      "outputs": [
        {
          "output_type": "stream",
          "text": [
            "23\n",
            "23\n",
            "44\n",
            "55\n",
            "5\n",
            "44\n",
            "4\n",
            "5\n",
            "7\n",
            "7\n",
            "6\n",
            "5\n",
            "4\n",
            "2\n",
            "1\n"
          ],
          "name": "stdout"
        }
      ]
    },
    {
      "cell_type": "markdown",
      "metadata": {
        "id": "iX8TwDov2v4z"
      },
      "source": [
        "# sintaxis fel for en python\n",
        "\n",
        "dos versiones de for \n",
        "\n",
        "1. range\n",
        "2. in iterator"
      ]
    },
    {
      "cell_type": "code",
      "metadata": {
        "id": "tSrESm1F2_kT",
        "outputId": "e5a6a339-10a9-4a37-9560-47ff39894f76",
        "colab": {
          "base_uri": "https://localhost:8080/",
          "height": 204
        }
      },
      "source": [
        "r = range(0,10,2)\n",
        "for x in r:\n",
        "  print(x)\n",
        "\n",
        "colores = ['rojo','rasa','azul','fiusca']\n",
        "\n",
        "for indice in range(0,len(colores),1): # seria un for de indice = 0;indice <4;indice ++ \n",
        "   # print(colores[indice])             # para modificar el elemento o la lista \n",
        "     colores[indice]=colores[indice].upper() + \" \" + str(indice)\n",
        "\n",
        "# for sobre un iterador \n",
        "# para mostrar una lista\n",
        "print('\\n')\n",
        "for col in colores:\n",
        "  print(col)\n"
      ],
      "execution_count": 34,
      "outputs": [
        {
          "output_type": "stream",
          "text": [
            "0\n",
            "2\n",
            "4\n",
            "6\n",
            "8\n",
            "\n",
            "\n",
            "ROJO 0\n",
            "RASA 1\n",
            "AZUL 2\n",
            "FIUSCA 3\n"
          ],
          "name": "stdout"
        }
      ]
    },
    {
      "cell_type": "markdown",
      "metadata": {
        "id": "gwxBrlte8DIM"
      },
      "source": [
        "# Generador \n",
        "\n",
        "[ \"hola\" for x in range(10) ]\n",
        "\n",
        "genera lisatas con for "
      ]
    },
    {
      "cell_type": "code",
      "metadata": {
        "id": "ve8SdaPQ8WXU",
        "outputId": "2a78e95b-8078-4bf4-a829-0a8834a2be47",
        "colab": {
          "base_uri": "https://localhost:8080/",
          "height": 34
        }
      },
      "source": [
        "lista = [ x for x in range(10)]\n",
        "print(lista)"
      ],
      "execution_count": 42,
      "outputs": [
        {
          "output_type": "stream",
          "text": [
            "([0, 1, 2, 3, 4, 5, 6, 7, 8, 9],)\n"
          ],
          "name": "stdout"
        }
      ]
    },
    {
      "cell_type": "code",
      "metadata": {
        "id": "hcGcqRvB97nl",
        "outputId": "bec94948-4aeb-4008-ba13-53d99a77a254",
        "colab": {
          "base_uri": "https://localhost:8080/",
          "height": 34
        }
      },
      "source": [
        "ren=5\n",
        "col=3\n",
        "\n",
        "\n",
        "lista1 = [ [0 for x in range(col)] for x in range(ren)]\n",
        "print(lista1)"
      ],
      "execution_count": 46,
      "outputs": [
        {
          "output_type": "stream",
          "text": [
            "[[0, 0, 0], [0, 0, 0], [0, 0, 0], [0, 0, 0], [0, 0, 0]]\n"
          ],
          "name": "stdout"
        }
      ]
    },
    {
      "cell_type": "markdown",
      "metadata": {
        "id": "5PoKYX-4_FeG"
      },
      "source": [
        "# POO en python\n",
        "\n",
        "- clase\n",
        "- creacion de objetos \n",
        "- encapsilamiento\n",
        "- metodos \n",
        "- atributos\n",
        "- herencia\n"
      ]
    },
    {
      "cell_type": "code",
      "metadata": {
        "id": "IwN0PJ45_XFk",
        "outputId": "1ae795c1-a741-4364-d351-db1f42f594f1",
        "colab": {
          "base_uri": "https://localhost:8080/",
          "height": 51
        }
      },
      "source": [
        "class Computadora:\n",
        "    def __init__(self ,m,p):\n",
        "      print(\"creando el objeto\")\n",
        "      self.__marca = m\n",
        "      self.__procesador = p\n",
        "\n",
        "\n",
        "       \n",
        "    def to_string(self):\n",
        "      return \"Marca:\" + self.__marca  + \" Procesador:\"+ self.__procesador\n",
        "\n",
        "mi_pc = Computadora(\"Toshiba\",\"Intel i7\")\n",
        "\n",
        "\n",
        "print(mi_pc.to_string())\n",
        "\n"
      ],
      "execution_count": 56,
      "outputs": [
        {
          "output_type": "stream",
          "text": [
            "creando el objeto\n",
            "Marca:Toshiba Procesador:Intel i7\n"
          ],
          "name": "stdout"
        }
      ]
    }
  ]
}