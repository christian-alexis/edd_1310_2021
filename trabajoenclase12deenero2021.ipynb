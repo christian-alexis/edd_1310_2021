{
  "nbformat": 4,
  "nbformat_minor": 0,
  "metadata": {
    "colab": {
      "name": "trabajoenclase12deenero2021.ipynb",
      "provenance": [],
      "authorship_tag": "ABX9TyPE81oVksqwyENzKM25e6O/",
      "include_colab_link": true
    },
    "kernelspec": {
      "name": "python3",
      "display_name": "Python 3"
    }
  },
  "cells": [
    {
      "cell_type": "markdown",
      "metadata": {
        "id": "view-in-github",
        "colab_type": "text"
      },
      "source": [
        "<a href=\"https://colab.research.google.com/github/christian-alexis/edd_1310_2021/blob/master/trabajoenclase12deenero2021.ipynb\" target=\"_parent\"><img src=\"https://colab.research.google.com/assets/colab-badge.svg\" alt=\"Open In Colab\"/></a>"
      ]
    },
    {
      "cell_type": "code",
      "metadata": {
        "colab": {
          "base_uri": "https://localhost:8080/"
        },
        "id": "AOc6nDDg7RU9",
        "outputId": "658da5f0-db77-43f9-c7ba-b351946ef997"
      },
      "source": [
        "def factorial ( n ):\r\n",
        "    if n == 0:\r\n",
        "        return 1\r\n",
        "    else:\r\n",
        "        return factorial(n-1) * n\r\n",
        "\r\n",
        "def printRev( n ):  #3\r\n",
        "    if n > 0:\r\n",
        "        \r\n",
        "        printRev( n -1 )\r\n",
        "        print( n )\r\n",
        "\r\n",
        "def fibonacci (n):\r\n",
        "    if n == 1 or n == 0:\r\n",
        "        return n\r\n",
        "    if n > 1:\r\n",
        "            return (fibonacci(n-1) + fibonacci(n-2))\r\n",
        "\r\n",
        "\r\n",
        "\r\n",
        "def main():\r\n",
        "    for num in range( 1 , 11 , 1):\r\n",
        "        r = factorial(num)\r\n",
        "        print(f\"El factorial de {num} en {r}\")\r\n",
        "\r\n",
        "def main2():\r\n",
        "    printRev( 3 )\r\n",
        "\r\n",
        "def main3():\r\n",
        "    for num in range(11):\r\n",
        "        print(str(fibonacci(num))+ \",\", )\r\n",
        "    print(\"\")\r\n",
        "main3()"
      ],
      "execution_count": 1,
      "outputs": [
        {
          "output_type": "stream",
          "text": [
            "0,\n",
            "1,\n",
            "1,\n",
            "2,\n",
            "3,\n",
            "5,\n",
            "8,\n",
            "13,\n",
            "21,\n",
            "34,\n",
            "55,\n",
            "\n"
          ],
          "name": "stdout"
        }
      ]
    }
  ]
}