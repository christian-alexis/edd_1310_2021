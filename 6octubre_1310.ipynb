{
  "nbformat": 4,
  "nbformat_minor": 0,
  "metadata": {
    "colab": {
      "name": "6octubre_1310.ipynb",
      "provenance": [],
      "authorship_tag": "ABX9TyMUVXQsTa6iLTIh2/+ua7Ro",
      "include_colab_link": true
    },
    "kernelspec": {
      "name": "python3",
      "display_name": "Python 3"
    }
  },
  "cells": [
    {
      "cell_type": "markdown",
      "metadata": {
        "id": "view-in-github",
        "colab_type": "text"
      },
      "source": [
        "<a href=\"https://colab.research.google.com/github/christian-alexis/edd_1310_2021/blob/master/6octubre_1310.ipynb\" target=\"_parent\"><img src=\"https://colab.research.google.com/assets/colab-badge.svg\" alt=\"Open In Colab\"/></a>"
      ]
    },
    {
      "cell_type": "code",
      "metadata": {
        "id": "W6_II2xkqEEd",
        "outputId": "effe85d7-731f-4ef0-f258-ec14d2e180d7",
        "colab": {
          "base_uri": "https://localhost:8080/",
          "height": 340
        }
      },
      "source": [
        "# String continuacion.....\n",
        "\n",
        "numeros_txt = \"   1, 2 , 3, 4      , 5           , 35      , 15  ,  12\"\n",
        "print(numeros_txt)\n",
        "# se le quita el pacio a la izquierda\n",
        "numeros_txt = numeros_txt.lstrip().split(\",\")\n",
        "print(numeros_txt)\n",
        "\n",
        "for j in range(len(numeros_txt)):\n",
        "  numeros_txt[ j ] = int(numeros_txt[j].strip())\n",
        "\n",
        "print(numeros_txt)\n",
        "\n",
        "# funcion range \n",
        "#range(inicio,stop,incremento)\n",
        "print(range(0,10,1))\n",
        "rango= range(1,10,2)\n",
        "\n",
        "for x in rango:\n",
        "   print(x)\n",
        "\n",
        "rango= range(10)\n",
        "for x in rango:\n",
        "   print(x)\n",
        "\n",
        "\n",
        "\n",
        "\n",
        "\n"
      ],
      "execution_count": 19,
      "outputs": [
        {
          "output_type": "stream",
          "text": [
            "   1, 2 , 3, 4      , 5           , 35      , 15  ,  12\n",
            "['1', ' 2 ', ' 3', ' 4      ', ' 5           ', ' 35      ', ' 15  ', '  12']\n",
            "[1, 2, 3, 4, 5, 35, 15, 12]\n",
            "range(0, 10)\n",
            "1\n",
            "3\n",
            "5\n",
            "7\n",
            "9\n",
            "0\n",
            "1\n",
            "2\n",
            "3\n",
            "4\n",
            "5\n",
            "6\n",
            "7\n",
            "8\n",
            "9\n"
          ],
          "name": "stdout"
        }
      ]
    },
    {
      "cell_type": "markdown",
      "metadata": {
        "id": "3_bY7HT9xfnr"
      },
      "source": [
        "# listas\n",
        "- mutables\n",
        "-declaran con [ ]\n",
        "- selector [int]\n",
        "\n",
        "# Tuplas\n",
        "- No mutables\n",
        "- Declaran con ()\n",
        "- selectos [int]\n",
        "\n",
        "# Diccionarios\n",
        "- Son mutables\n",
        "- Son conjuntos de pares llave:valor\n",
        "- Equivalentes a los objetos JSON de JavaScrip\n",
        "\n",
        "# Conjuntos\n",
        "- representan de la teoria de conjuntos "
      ]
    },
    {
      "cell_type": "code",
      "metadata": {
        "id": "k7R_9wKXyO-P",
        "outputId": "7ac5927b-f237-41f4-b271-9fd7381afa50",
        "colab": {
          "base_uri": "https://localhost:8080/",
          "height": 153
        }
      },
      "source": [
        "#listas  (Equivalentes a arreglos en otros lenguajes de programacion)\n",
        "frutas= [\"Pera\", \"Manzana\",\"Fresa\",\"Kiwi\",\"Naranja\"]\n",
        "print(frutas)\n",
        "cosas = [\"cuaderno\",2,3.1416,True,False,[\"Rojo\",\"Azul\"]]\n",
        "print(cosas)\n",
        "frutas[2]=\"Fresa\" # frutas[2] = frutas[2].capitalize()\n",
        "print(frutas)\n",
        "# agregar a lista\n",
        "# append siempre lo agrega al final \n",
        "frutas.append(\"Aguacate\")\n",
        "print(frutas)\n",
        "# insert agrega a la lista en la posicion que quieras.\n",
        "frutas.insert(2,\"sandia\")\n",
        "print(frutas)\n",
        "\n",
        "# concatena una lista\n",
        "fecha = [\"06\",\"10\",\"2020\"] #06/10/2020\n",
        "print(fecha)\n",
        "fecha_str =\"/\".join(fecha)\n",
        "print(fecha_str)\n",
        "\n",
        "\n",
        "\n"
      ],
      "execution_count": 24,
      "outputs": [
        {
          "output_type": "stream",
          "text": [
            "['Pera', 'Manzana', 'Fresa', 'Kiwi', 'Naranja']\n",
            "['cuaderno', 2, 3.1416, True, False, ['Rojo', 'Azul']]\n",
            "['Pera', 'Manzana', 'Fresa', 'Kiwi', 'Naranja']\n",
            "['Pera', 'Manzana', 'Fresa', 'Kiwi', 'Naranja', 'Aguacate']\n",
            "['Pera', 'Manzana', 'sandia', 'Fresa', 'Kiwi', 'Naranja', 'Aguacate']\n",
            "['06', '10', '2020']\n",
            "06/10/2020\n",
            "['cuaderno', 2, 3.1416, True, False, ['Rojo', 'Azul']]\n"
          ],
          "name": "stdout"
        }
      ]
    },
    {
      "cell_type": "code",
      "metadata": {
        "id": "TPr5zY6N3TbV",
        "outputId": "9cd2aa78-5d41-4728-fcc3-0ecd1afac381",
        "colab": {
          "base_uri": "https://localhost:8080/",
          "height": 187
        }
      },
      "source": [
        "# Eliminar elementos de una lista \n",
        "# pop remueve (por defecto a la ultima pero tambien se le puede dar el indice que quieres quitar) y lo guarda en una variable \n",
        "cosas = [\"cuaderno\",2,3.1416,True,False,[\"Rojo\",\"Azul\"]]\n",
        "print(cosas)\n",
        "cosas.append(\"libro\")\n",
        "cosas.append(\"lapiz\")\n",
        "print(cosas)\n",
        "algo= cosas.pop()\n",
        "print(cosas)\n",
        "print(algo)\n",
        "\n",
        "algo= cosas.pop(2)\n",
        "print(cosas)\n",
        "print(algo)\n",
        "\n",
        "# remove elimina el elemento que desees\n",
        "cosas.remove(2)\n",
        "print(cosas)\n",
        "\n",
        "#clear vacia la lista\n",
        "cosas.clear()\n",
        "print(cosas)\n",
        "\n",
        "\n",
        "# se ordena segun diccionario\n",
        "# este metodo no funciona con valores convinados \n",
        "print(frutas)\n",
        "frutas.sort()\n",
        "print(frutas)\n",
        "\n",
        "\n"
      ],
      "execution_count": 37,
      "outputs": [
        {
          "output_type": "stream",
          "text": [
            "['cuaderno', 2, 3.1416, True, False, ['Rojo', 'Azul']]\n",
            "['cuaderno', 2, 3.1416, True, False, ['Rojo', 'Azul'], 'libro', 'lapiz']\n",
            "['cuaderno', 2, 3.1416, True, False, ['Rojo', 'Azul'], 'libro']\n",
            "lapiz\n",
            "['cuaderno', 2, True, False, ['Rojo', 'Azul'], 'libro']\n",
            "3.1416\n",
            "['cuaderno', True, False, ['Rojo', 'Azul'], 'libro']\n",
            "[]\n",
            "['Pera', 'Manzana', 'sandia', 'Fresa', 'Kiwi', 'Naranja', 'Aguacate']\n",
            "['Aguacate', 'Fresa', 'Kiwi', 'Manzana', 'Naranja', 'Pera', 'sandia']\n"
          ],
          "name": "stdout"
        }
      ]
    },
    {
      "cell_type": "code",
      "metadata": {
        "id": "NWpZLzZC7EZ-",
        "outputId": "f87f69df-3edb-41e7-80fd-9214394d6c9d",
        "colab": {
          "base_uri": "https://localhost:8080/",
          "height": 119
        }
      },
      "source": [
        "# Slicing\n",
        "# ravana la lista \n",
        "\n",
        "cosas = [\"cuaderno\",2,3.1416,True,False,[\"Rojo\",\"Azul\"]]\n",
        "print(cosas[3:5:1])# revanada\n",
        "print(cosas)\n",
        "print(cosas[0][3:5:1])# vuelves a iterar y ahora sacas la letra de un elemento\n",
        "\n",
        "\n",
        "numeros = [0,1,2,3,4,5,6,7,8,9,10,11,12,13,14,15]\n",
        "\n",
        "print(numeros[8:13:1]) # del 8 al 12\n",
        "\n",
        "\n",
        "#sustituir revanadas -2, -2 [0,1,2,3,4,5,6,7,-2,-2,13,14,15]\n",
        "numeros [8:13:] =[-2,-2]\n",
        "print(numeros)\n",
        "\n",
        "# preguntar por existencia \n",
        "print(100 in numeros)\n",
        "\n",
        "\n",
        "\n"
      ],
      "execution_count": 45,
      "outputs": [
        {
          "output_type": "stream",
          "text": [
            "[True, False]\n",
            "['cuaderno', 2, 3.1416, True, False, ['Rojo', 'Azul']]\n",
            "de\n",
            "[8, 9, 10, 11, 12]\n",
            "[0, 1, 2, 3, 4, 5, 6, 7, -2, -2, 13, 14, 15]\n",
            "False\n"
          ],
          "name": "stdout"
        }
      ]
    },
    {
      "cell_type": "markdown",
      "metadata": {
        "id": "CqjBI9BD-irc"
      },
      "source": [
        "# Listas multi dimencion \n",
        "\n",
        "listas dentro de listas \n"
      ]
    },
    {
      "cell_type": "code",
      "metadata": {
        "id": "pJYdsCDb-u4R",
        "outputId": "c3fa836a-b164-481e-921c-a49929a36727",
        "colab": {
          "base_uri": "https://localhost:8080/",
          "height": 207
        }
      },
      "source": [
        "computadoras= [\"HP\",\"Mac book pro 17\", \"Mate book\",\"Lenovo legion\"  ]\n",
        "oss = [\"Windows 10\", \"Linux\",\"Andrid\", \"IOS\",]\n",
        "computo =[computadoras, oss]\n",
        "print(computo[0])\n",
        "print(computo[1])\n",
        "print(computo[0][2])\n",
        "print(computo[0][2][0:5])\n",
        "print(computo[0][3][5::-1])\n",
        "print(computo[0][3][-8::-1])\n",
        "print(\"Linux\" in computo[1])\n",
        "dbms = [ [\"Mysql\",\"open source\",False],[\"MS SQL Server\",\"de paga\",True] ]\n",
        "computo.append(dbms)\n",
        "print(computo)\n",
        "print(computo[2][0][0])\n",
        "print(computo[2][1][1])\n",
        "\n"
      ],
      "execution_count": 63,
      "outputs": [
        {
          "output_type": "stream",
          "text": [
            "['HP', 'Mac book pro 17', 'Mate book', 'Lenovo legion']\n",
            "['Windows 10', 'Linux', 'Andrid', 'IOS']\n",
            "Mate book\n",
            "Mate \n",
            "ovoneL\n",
            "ovoneL\n",
            "True\n",
            "[['HP', 'Mac book pro 17', 'Mate book', 'Lenovo legion'], ['Windows 10', 'Linux', 'Andrid', 'IOS'], [['Mysql', 'open source', False], ['MS SQL Server', 'de paga', True]]]\n",
            "Mysql\n",
            "de paga\n"
          ],
          "name": "stdout"
        }
      ]
    },
    {
      "cell_type": "code",
      "metadata": {
        "id": "2MDb-poGz2qg"
      },
      "source": [
        "help(list)"
      ],
      "execution_count": null,
      "outputs": []
    }
  ]
}