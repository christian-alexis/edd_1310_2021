{
  "nbformat": 4,
  "nbformat_minor": 0,
  "metadata": {
    "colab": {
      "name": "8octubre_1310.ipynb",
      "provenance": [],
      "authorship_tag": "ABX9TyNSY+vIShJUZyxvNec6jahg",
      "include_colab_link": true
    },
    "kernelspec": {
      "name": "python3",
      "display_name": "Python 3"
    }
  },
  "cells": [
    {
      "cell_type": "markdown",
      "metadata": {
        "id": "view-in-github",
        "colab_type": "text"
      },
      "source": [
        "<a href=\"https://colab.research.google.com/github/christian-alexis/edd_1310_2021/blob/master/8octubre_1310.ipynb\" target=\"_parent\"><img src=\"https://colab.research.google.com/assets/colab-badge.svg\" alt=\"Open In Colab\"/></a>"
      ]
    },
    {
      "cell_type": "code",
      "metadata": {
        "id": "DgP63l7z4cvJ",
        "outputId": "ba4f9519-1c23-4f5c-de3e-9f84d6ae6a11",
        "colab": {
          "base_uri": "https://localhost:8080/",
          "height": 139
        }
      },
      "source": [
        "# Listas multi dimencion \n",
        "monitores =[[\"Samsung\",\"17.3 \\\"\",1024],[\"BenQ\",\"40\\\"\",2048]]\n",
        "procesadores = [[\"Intel\",\"i7\",3.4],[\"AMD\",\"razzer\",3.3],[\"Intel\",\"i3\",3.1]]\n",
        "memorias = [[\"Kingston\", \"8GB\",\"DDR4\"],[\"Kingston\", \"16GB\",\"DDR3\"],[\"ADATA\", \"32GB\",\"DDR4\"]]\n",
        "\n",
        "componentes = [monitores,procesadores,memorias]\n",
        "\n",
        "print(componentes)\n",
        "print(componentes[2][1][1])\n",
        "print(componentes[0][1][2]*2)\n",
        "print(componentes[1][1][1][1:4:1])\n",
        "print(componentes[2][2][0].lower())\n",
        "componentes[2].append([\"patito\",\"32 GB\",\"DDR4\"])\n",
        "print(componentes[2])\n",
        "\n",
        "\n"
      ],
      "execution_count": 18,
      "outputs": [
        {
          "output_type": "stream",
          "text": [
            "[[['Samsung', '17.3 \"', 1024], ['BenQ', '40\"', 2048]], [['Intel', 'i7', 3.4], ['AMD', 'razzer', 3.3], ['Intel', 'i3', 3.1]], [['Kingston', '8GB', 'DDR4'], ['Kingston', '16GB', 'DDR3'], ['ADATA', '32GB', 'DDR4']]]\n",
            "16GB\n",
            "4096\n",
            "azz\n",
            "adata\n",
            "[['Kingston', '8GB', 'DDR4'], ['Kingston', '16GB', 'DDR3'], ['ADATA', '32GB', 'DDR4'], ['patito', '32 GB', 'DDR4']]\n"
          ],
          "name": "stdout"
        }
      ]
    },
    {
      "cell_type": "code",
      "metadata": {
        "id": "RzLlLZ_gHq7K",
        "outputId": "dc4ed10c-c543-4eda-d49d-d136c1d89a28",
        "colab": {
          "base_uri": "https://localhost:8080/",
          "height": 204
        }
      },
      "source": [
        "# copiar listar \n",
        "#extender listas\n",
        "\n",
        "frutas =[\"manzana\",\"pera\"]\n",
        "otras_frutas =[\"aguacate\",\"sandia\"]\n",
        "\n",
        "print(frutas)\n",
        "frutas.append(\"limon\")\n",
        "print(frutas)\n",
        "\n",
        "\n",
        "# + sobre listas (solo copia pero no modifica la lista)\n",
        "frutas = frutas + otras_frutas\n",
        "print(frutas)\n",
        "\n",
        "# funcion extend() este modifica a la lista\n",
        "#frutas = frutas.extend(otras_frutas)\n",
        "#print(frutas)\n",
        "\n",
        "\n",
        "\n",
        "#copiar  \n",
        "\n",
        "colores =[\"azul\",\"rojo\",\"verde\",\"violeta\"]\n",
        "otros_colores = colores #le asigna el mismo valor en memoria \"puntero\"\n",
        "print(colores)\n",
        "print(otros_colores)\n",
        "otros_colores.append(\"rosa\")\n",
        "print(colores)\n",
        "print(otros_colores)\n",
        "\n",
        "una_mas = colores.copy()\n",
        "print(una_mas)\n",
        "una_mas.append(\"gris\")\n",
        "print(una_mas)\n",
        "print(colores)\n",
        "\n",
        " \n",
        "# unpaking de listas\n",
        "\n",
        "alumno= [\"Jesus\",\"Perez\",\"Herrera\",22,\"ICO\",10.0]\n",
        "#nombre= alumno[0]\n",
        "#paterno=alumno[1]\n",
        "# etc\n",
        "\n",
        "nombre,paterno,materno,edad,carrera,promedio = alumno\n",
        "\n",
        "print(f\"Alumno:{nombre}  carrera:{carrera}  promedio:{promedio}\")\n",
        "\n",
        "\n"
      ],
      "execution_count": 48,
      "outputs": [
        {
          "output_type": "stream",
          "text": [
            "['manzana', 'pera']\n",
            "['manzana', 'pera', 'limon']\n",
            "['manzana', 'pera', 'limon', 'aguacate', 'sandia']\n",
            "['azul', 'rojo', 'verde', 'violeta']\n",
            "['azul', 'rojo', 'verde', 'violeta']\n",
            "['azul', 'rojo', 'verde', 'violeta', 'rosa']\n",
            "['azul', 'rojo', 'verde', 'violeta', 'rosa']\n",
            "['azul', 'rojo', 'verde', 'violeta', 'rosa']\n",
            "['azul', 'rojo', 'verde', 'violeta', 'rosa', 'gris']\n",
            "['azul', 'rojo', 'verde', 'violeta', 'rosa']\n",
            "Alumno:Jesus  carrera:ICO  promedio:10.0\n"
          ],
          "name": "stdout"
        }
      ]
    },
    {
      "cell_type": "markdown",
      "metadata": {
        "id": "x_leZLsoR1d5"
      },
      "source": [
        "# TUPLAS\n",
        " \n",
        " - Se de claran con parentesis\n",
        " - Selector con [ ]\n",
        " - NO son mutables\n"
      ]
    },
    {
      "cell_type": "code",
      "metadata": {
        "id": "M4RU8-bcSMQZ",
        "outputId": "02641c3f-331a-4963-e324-ba3e0df34b3d",
        "colab": {
          "base_uri": "https://localhost:8080/",
          "height": 51
        }
      },
      "source": [
        " # no soportan la assignacion ed elementos\n",
        " # sirven para consulta \n",
        " # constantes\n",
        " precios = ( 99.9, 49.9, 12.45, 23.3, 33.44, 55.66 )\n",
        " print(precios[1]) \n",
        " print(precios[2:4])\n"
      ],
      "execution_count": 51,
      "outputs": [
        {
          "output_type": "stream",
          "text": [
            "49.9\n",
            "(12.45, 23.3)\n"
          ],
          "name": "stdout"
        }
      ]
    },
    {
      "cell_type": "markdown",
      "metadata": {
        "id": "7oM-ujylTjAz"
      },
      "source": [
        "# DICCIONARIOS\n",
        "- Se declara con llaves { } \n",
        "- Son mutables \n",
        "- Son conjuntos de pares llaves: valor\n",
        "- Equivalentes a los objetos JSON de JavaScript\n",
        "- Selectoe [str]"
      ]
    },
    {
      "cell_type": "code",
      "metadata": {
        "id": "qAySMMBCT5oP",
        "outputId": "789b5ccd-cfb7-403a-b4eb-9277b1544071",
        "colab": {
          "base_uri": "https://localhost:8080/",
          "height": 139
        }
      },
      "source": [
        "cliente = {}\n",
        "print(cliente)\n",
        "alumno ={   \"num_cta\"     :303030303033 }\n",
        "print(alumno)\n",
        "\n",
        "alumno ={ \"num_cta\"  :3030303033 ,\n",
        "          \"carrera\"  :\"ICO\" ,\n",
        "          \"promedio\"  :9.88,\n",
        "          \"materias\" : [\"EDD\", \"CYP\", \"Calidad\", \"Empredimiento\"],\n",
        "          \"direccion\" :{\"calle\": \"Rancho Seco\",\n",
        "                        \"numero\" : 23,\n",
        "                        \"delegacion\" : \"Neza\",\n",
        "                        \"estado\" : {\n",
        "                                     \"id\" : 15,\n",
        "                                     \"nombre \" : \"Estado de Mexico\",\n",
        "                                     \"nombre_corto\" : \"EdoMex\"\n",
        "                                  },\n",
        "\n",
        "                      \"CP\" : 57170           \n",
        "                          \n",
        "                        \n",
        "                        }\n",
        "         }\n",
        "print(alumno)\n",
        "print(alumno['materias'])\n",
        "print(alumno['promedio'])\n",
        "print(alumno['direccion']['estado']['nombre_corto'])"
      ],
      "execution_count": 58,
      "outputs": [
        {
          "output_type": "stream",
          "text": [
            "{}\n",
            "{'num_cta': 303030303033}\n",
            "{'num_cta': 3030303033, 'carrera': 'ICO', 'promedio': 9.88, 'materias': ['EDD', 'CYP', 'Calidad', 'Empredimiento'], 'direccion': {'calle': 'rancho seco', 'numero': 23, 'delegacion': 'neza', 'estado': {'id': 15, 'nombre ': 'estado de mexico', 'nombre_corto': 'EdoMex'}, 'CP': 57170}}\n",
            "['EDD', 'CYP', 'Calidad', 'Empredimiento']\n",
            "9.88\n",
            "EdoMex\n"
          ],
          "name": "stdout"
        }
      ]
    }
  ]
}