{
  "nbformat": 4,
  "nbformat_minor": 0,
  "metadata": {
    "colab": {
      "name": "01octubre_1310.ipynb",
      "provenance": [],
      "authorship_tag": "ABX9TyN4KDqxTVOx6m1nWrb3K2pb",
      "include_colab_link": true
    },
    "kernelspec": {
      "name": "python3",
      "display_name": "Python 3"
    }
  },
  "cells": [
    {
      "cell_type": "markdown",
      "metadata": {
        "id": "view-in-github",
        "colab_type": "text"
      },
      "source": [
        "<a href=\"https://colab.research.google.com/github/christian-alexis/edd_1310_2021/blob/master/01octubre_1310.ipynb\" target=\"_parent\"><img src=\"https://colab.research.google.com/assets/colab-badge.svg\" alt=\"Open In Colab\"/></a>"
      ]
    },
    {
      "cell_type": "markdown",
      "metadata": {
        "id": "j63j_fN4WjFF"
      },
      "source": [
        "## Intro Python 3\n",
        "### Variables\n",
        "tipo dinamico \n",
        "\n",
        "esculea = \"Fes Aragon\""
      ]
    },
    {
      "cell_type": "code",
      "metadata": {
        "id": "MLHTpxCiWX1a",
        "outputId": "aed25122-8ff4-4ba1-abab-c5bf77353f6c",
        "colab": {
          "base_uri": "https://localhost:8080/",
          "height": 136
        }
      },
      "source": [
        "escuela = \"Fes aragon\"\n",
        "print(escuela)\n",
        "print(\"-------\")\n",
        "edad = 13\n",
        "estatura = 1.67\n",
        "fumador= True\n",
        "frase = \"\"\"\n",
        "Esta es una fase de multiples lineas y tambien \n",
        "es un tipo de dato\n",
        "\n",
        "\"\"\"\n",
        "print(frase)\n",
        "nombre= 'Jose'\n",
        "nombre_completo=\"Jose Sosa Cardenas\"\n"
      ],
      "execution_count": 1,
      "outputs": [
        {
          "output_type": "stream",
          "text": [
            "Fes aragon\n",
            "-------\n",
            "\n",
            "Esta es una fase de multiples lineas y tambien \n",
            "es un tipo de dato\n",
            "\n",
            "\n"
          ],
          "name": "stdout"
        }
      ]
    },
    {
      "cell_type": "markdown",
      "metadata": {
        "id": "p2j_91rMWqD9"
      },
      "source": [
        "# Print \n",
        "con comas ,\n",
        "\n",
        "con signo mas +\n",
        "\n",
        "con format() \n",
        "\n",
        "con el operador f\"\""
      ]
    },
    {
      "cell_type": "code",
      "metadata": {
        "id": "4iq1m81RWris",
        "outputId": "46ac398f-cc01-4040-e2db-558b70737dd1",
        "colab": {
          "base_uri": "https://localhost:8080/",
          "height": 34
        }
      },
      "source": [
        "# La como en print da un espacio entre las variables\n",
        "print(nombre,edad)"
      ],
      "execution_count": 2,
      "outputs": [
        {
          "output_type": "stream",
          "text": [
            "Jose 13\n"
          ],
          "name": "stdout"
        }
      ]
    },
    {
      "cell_type": "code",
      "metadata": {
        "id": "Tg1AYYltWv52",
        "outputId": "7b7061a0-0a95-447c-8b6b-eb7ae24d19bd",
        "colab": {
          "base_uri": "https://localhost:8080/",
          "height": 51
        }
      },
      "source": [
        "# El + concadena\n",
        "print (nombre + str (edad))\n",
        "print (nombre + nombre_completo)"
      ],
      "execution_count": 3,
      "outputs": [
        {
          "output_type": "stream",
          "text": [
            "Jose13\n",
            "JoseJose Sosa Cardenas\n"
          ],
          "name": "stdout"
        }
      ]
    },
    {
      "cell_type": "code",
      "metadata": {
        "id": "GzYF9fysWyqt",
        "outputId": "d152d4b7-cb43-4126-967d-57d37b800e2c",
        "colab": {
          "base_uri": "https://localhost:8080/",
          "height": 85
        }
      },
      "source": [
        "# Con formato --> Nombre: Su nombre es Jose y su edad es 13 años.\n",
        "print(\"Su nombre es:\",nombre,\"y su edad es:\",edad,\"años.\")\n",
        "print (\"Su nombre es: {0} y su edad es: {1} años.\".format(nombre,edad))\n",
        "print (\"Su nombre es: {1} y su edad es: {0} años.\".format(nombre,edad))\n",
        "print (\"Su nombre es: {} y su edad es: {} años.\".format(nombre,edad))"
      ],
      "execution_count": 4,
      "outputs": [
        {
          "output_type": "stream",
          "text": [
            "Su nombre es: Jose y su edad es: 13 años.\n",
            "Su nombre es: Jose y su edad es: 13 años.\n",
            "Su nombre es: 13 y su edad es: Jose años.\n",
            "Su nombre es: Jose y su edad es: 13 años.\n"
          ],
          "name": "stdout"
        }
      ]
    },
    {
      "cell_type": "markdown",
      "metadata": {
        "id": "6eS-QxUGW15m"
      },
      "source": [
        "# Caracter de escape\n",
        "\\n salto de linea\n",
        "\n",
        "\\t tabulador \n",
        "\n",
        "\\a beep\n",
        "\n",
        "\\\" imprimir comilla doble"
      ]
    },
    {
      "cell_type": "code",
      "metadata": {
        "id": "iGpHCiwDW5Xe",
        "outputId": "34ab0a53-2071-480c-b395-dd1c30ae3d2d",
        "colab": {
          "base_uri": "https://localhost:8080/",
          "height": 51
        }
      },
      "source": [
        "\"\"\"\n",
        "Esto es un cmentario de multiple linea\n",
        "\"\"\"\n",
        "print(f\"\\tMi nombre es\\n\\t\\t {nombre}\")"
      ],
      "execution_count": 5,
      "outputs": [
        {
          "output_type": "stream",
          "text": [
            "\tMi nombre es\n",
            "\t\t Jose\n"
          ],
          "name": "stdout"
        }
      ]
    },
    {
      "cell_type": "markdown",
      "metadata": {
        "id": "0q_jmruZW8ic"
      },
      "source": [
        "# Ayuda de tipos de datos en python\n",
        "dir()\n",
        "\n",
        "help()"
      ]
    },
    {
      "cell_type": "code",
      "metadata": {
        "id": "5BoRgTioW-w_"
      },
      "source": [
        "# str, int , float , bool....... list, dict, set\n",
        "help(str)"
      ],
      "execution_count": null,
      "outputs": []
    },
    {
      "cell_type": "code",
      "metadata": {
        "id": "rjtmiaPSXAtc",
        "outputId": "fece6447-0bec-4fb6-c307-2e35a9dc043b",
        "colab": {
          "base_uri": "https://localhost:8080/",
          "height": 51
        }
      },
      "source": [
        "print(nombre_completo.capitalize())\n",
        "print(nombre_completo.upper(),end=\"-----\")\n",
        "print(nombre_completo.title())"
      ],
      "execution_count": 6,
      "outputs": [
        {
          "output_type": "stream",
          "text": [
            "Jose sosa cardenas\n",
            "JOSE SOSA CARDENAS-----Jose Sosa Cardenas\n"
          ],
          "name": "stdout"
        }
      ]
    },
    {
      "cell_type": "code",
      "metadata": {
        "id": "z5cV36L7XDb8"
      },
      "source": [
        "help(print)"
      ],
      "execution_count": null,
      "outputs": []
    },
    {
      "cell_type": "markdown",
      "metadata": {
        "id": "vACTx7tvXIvc"
      },
      "source": [
        "# Clase String \n",
        "\n",
        "Es manejado como un arreglo (c o java)\n",
        "o lista aqui en (python)\n",
        "\n",
        "telefono= \"Huawei mate 30 pro\"\n",
        "\n",
        "print(telefono[0])"
      ]
    },
    {
      "cell_type": "code",
      "metadata": {
        "id": "bZVFs1w6XLJM",
        "outputId": "c23fdd6e-9c99-4846-f8f5-46bfc930d475",
        "colab": {
          "base_uri": "https://localhost:8080/",
          "height": 34
        }
      },
      "source": [
        "telefono= \"Huawei mate 30 pro\"\n",
        "\n",
        "print(telefono[5])"
      ],
      "execution_count": 7,
      "outputs": [
        {
          "output_type": "stream",
          "text": [
            "i\n"
          ],
          "name": "stdout"
        }
      ]
    },
    {
      "cell_type": "code",
      "metadata": {
        "id": "q6y2vIWFXONM",
        "outputId": "b383a268-4509-46a4-8757-c4e6dc3731d0",
        "colab": {
          "base_uri": "https://localhost:8080/",
          "height": 102
        }
      },
      "source": [
        "print(telefono[7:11:1])\n",
        "# El inicio y el incremento son opcionales\n",
        "print(telefono[:11:])\n",
        "# El valor por defecro es: el tamaño de la cadena\n",
        "print(telefono[::])\n",
        "# Incremento negativo\n",
        "print(telefono[::-1])\n",
        "ini = -3\n",
        "inc=1\n",
        "print(telefono[ini::inc])"
      ],
      "execution_count": 8,
      "outputs": [
        {
          "output_type": "stream",
          "text": [
            "mate\n",
            "Huawei mate\n",
            "Huawei mate 30 pro\n",
            "orp 03 etam iewauH\n",
            "pro\n"
          ],
          "name": "stdout"
        }
      ]
    },
    {
      "cell_type": "markdown",
      "metadata": {
        "id": "MRpUgPGjXRvM"
      },
      "source": [
        "# Funciones de string (str)\n",
        "Existen metodos muy utiles en esta clase."
      ]
    },
    {
      "cell_type": "code",
      "metadata": {
        "id": "jpwGf1EFXUJm",
        "outputId": "0f23ccf6-1f23-4aa8-a9ba-051f110fceb8",
        "colab": {
          "base_uri": "https://localhost:8080/",
          "height": 391
        }
      },
      "source": [
        "# count cuenta el numero de elementos de la cedena\n",
        "# find te dice el sub indice de la primera coincidencia\n",
        "# index te dice el sub indice de la primera coincidencia\n",
        "# strip remueve los espacios en blaco solo al princio y el final y los saltos de linea\n",
        "# len  te regresa la longitud del string\n",
        "# split corta el caracter seleccionado\n",
        "facultad =\"    facultad de estudios superiores aragon      \\n\"\n",
        "print(facultad)\n",
        "print(facultad.count(\"e\"))\n",
        "print(facultad.find(\"s\"))\n",
        "print(facultad.index(\"d\"))\n",
        "print(facultad.strip())\n",
        "tamaño=(len(facultad))\n",
        "print(len(facultad))\n",
        "print(f\"tamaño de la cadena es {tamaño} caracteres\")\n",
        "print(facultad)\n",
        "print(facultad.split(\"t\"))\n",
        "print(facultad.strip().split())# quita los espacios\n",
        "print(\"---------\")\n",
        "#copiar lista \n",
        "otra_cadena=facultad\n",
        "print(otra_cadena)\n",
        "facultad=\"Fes aragon\"\n",
        "print(facultad)\n",
        "print(otra_cadena)\n",
        "\n",
        "#copiar listas \n",
        "colores= [\"rojo\",\"verde\"]\n",
        "otra=colores\n",
        "print(colores)\n",
        "print(otra)\n",
        "otra.append(\"rosa\")\n",
        "print(colores)\n",
        "print(otra)\n",
        "\n"
      ],
      "execution_count": 14,
      "outputs": [
        {
          "output_type": "stream",
          "text": [
            "    facultad de estudios superiores aragon      \n",
            "\n",
            "4\n",
            "17\n",
            "11\n",
            "facultad de estudios superiores aragon\n",
            "49\n",
            "tamaño de la cadena es 49 caracteres\n",
            "    facultad de estudios superiores aragon      \n",
            "\n",
            "['    facul', 'ad de es', 'udios superiores aragon      \\n']\n",
            "['facultad', 'de', 'estudios', 'superiores', 'aragon']\n",
            "---------\n",
            "    facultad de estudios superiores aragon      \n",
            "\n",
            "Fes aragon\n",
            "    facultad de estudios superiores aragon      \n",
            "\n",
            "['rojo', 'verde']\n",
            "['rojo', 'verde']\n",
            "['rojo', 'verde', 'rosa']\n",
            "['rojo', 'verde', 'rosa']\n"
          ],
          "name": "stdout"
        }
      ]
    }
  ]
}