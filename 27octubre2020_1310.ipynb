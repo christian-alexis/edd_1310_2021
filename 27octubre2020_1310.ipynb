{
  "nbformat": 4,
  "nbformat_minor": 0,
  "metadata": {
    "colab": {
      "name": "27octibre2020_1310.ipynb",
      "provenance": [],
      "authorship_tag": "ABX9TyNlBQoSSl3AUTiZ8IWx6XfV",
      "include_colab_link": true
    },
    "kernelspec": {
      "name": "python3",
      "display_name": "Python 3"
    }
  },
  "cells": [
    {
      "cell_type": "markdown",
      "metadata": {
        "id": "view-in-github",
        "colab_type": "text"
      },
      "source": [
        "<a href=\"https://colab.research.google.com/github/christian-alexis/edd_1310_2021/blob/master/27octubre2020_1310.ipynb\" target=\"_parent\"><img src=\"https://colab.research.google.com/assets/colab-badge.svg\" alt=\"Open In Colab\"/></a>"
      ]
    },
    {
      "cell_type": "code",
      "metadata": {
        "id": "3z1ZoJvVDWm0",
        "outputId": "78177157-6e8f-452b-e69d-d145c6737c24",
        "colab": {
          "base_uri": "https://localhost:8080/",
          "height": 68
        }
      },
      "source": [
        "class Computadora:\n",
        "    def __init__( self , m , p):\n",
        "        self.__marca = m\n",
        "        self.__procesador = p\n",
        "\n",
        "    def to_string( self ):\n",
        "        return \"MArca:\"+self.__marca+\" Procesador:\"+self.__procesador\n",
        "\n",
        "    def set_marca (self, m):\n",
        "        self.__marca = m \n",
        "\n",
        "    def get_marca (self):\n",
        "        return self.__marca  \n",
        "\n",
        "    def set_procesador (self, p):\n",
        "        self.__procesador = p\n",
        "\n",
        "    def get_procesador (self):\n",
        "        return self.__procesador       \n",
        "\n",
        "mi_pc = Computadora(\"Toshiba\",\"Intel i7\")\n",
        "print(mi_pc.to_string())\n",
        "mi_pc.__marca=\"HP co.\" # intentando cambiar el valor privado \n",
        "mi_pc.set_marca(\"HP co.\")\n",
        "print(mi_pc.to_string())\n",
        "#print(mi_pc.__procesador)\n",
        "print(mi_pc.get_procesador())"
      ],
      "execution_count": 9,
      "outputs": [
        {
          "output_type": "stream",
          "text": [
            "MArca:Toshiba Procesador:Intel i7\n",
            "MArca:HP co. Procesador:Intel i7\n",
            "Intel i7\n"
          ],
          "name": "stdout"
        }
      ]
    },
    {
      "cell_type": "markdown",
      "metadata": {
        "id": "RvraqTUtEKci"
      },
      "source": [
        "# Encasuplamiento en python 3\n",
        "\n",
        "## tradicional tipo java \n",
        "    void setAtributo ( va l)\n",
        "    tipo getAtributo ( )\n",
        "\n",
        "\n",
        "## estilo python 3\n",
        "\n",
        "UTILIZANDO DECORADORES \n",
        "\n",
        "-@property\n",
        "-@\n"
      ]
    },
    {
      "cell_type": "code",
      "metadata": {
        "id": "1Wv4YVM2H1JB",
        "outputId": "8adbf52a-fff5-428c-9fd8-673a0896d7b7",
        "colab": {
          "base_uri": "https://localhost:8080/",
          "height": 102
        }
      },
      "source": [
        "class Computadora:\n",
        "    def __init__(self , m , p):\n",
        "        self.marca = m # se manda a llamr el decorador @propery\n",
        "        self.procesador = p #se manda a llamar decorador @propery \n",
        "\n",
        "\n",
        "    @property     # se declara como atributo privado y funciona como metodo get \n",
        "    def marca(self):\n",
        "        return self.__marca\n",
        "\n",
        "    @marca.setter\n",
        "    def marca (self, m):\n",
        "        print(\"En el metodo set de marca\")\n",
        "        self.__marca = m\n",
        "\n",
        "    @property     # se declara como atributo privado y funciona como metodo get \n",
        "    def procesador(self):\n",
        "        return self.__procesador\n",
        "\n",
        "    @procesador.setter\n",
        "    def procesador (self, p):\n",
        "        print(\"En el metodo set de procesador\")\n",
        "        self.__procesador =p\n",
        "\n",
        "\n",
        "    def to_string (self ):\n",
        "        return \"marca:\" + self.marca + \" Procesador:\" + self.procesador\n",
        "\n",
        "mi_pc2 = Computadora(\"Marca Book Pro\", \" Intel i7\")\n",
        "\n",
        "print(mi_pc2.to_string())\n",
        "mi_pc2.marca = \"DELL\"\n",
        "print(mi_pc2.to_string())\n",
        "\n",
        "     \n",
        "\n",
        "    \n",
        "\n",
        "      \n"
      ],
      "execution_count": 21,
      "outputs": [
        {
          "output_type": "stream",
          "text": [
            "En el metodo set de marca\n",
            "En el metodo set de procesador\n",
            "marca:Marca Book Pro Procesador: Intel i7\n",
            "En el metodo set de marca\n",
            "marca:DELL Procesador: Intel i7\n"
          ],
          "name": "stdout"
        }
      ]
    },
    {
      "cell_type": "code",
      "metadata": {
        "id": "2ULbRL9XQhfm",
        "outputId": "4895eb4d-cbb0-44de-fdd7-182df25d2989",
        "colab": {
          "base_uri": "https://localhost:8080/",
          "height": 85
        }
      },
      "source": [
        "# Herencia se logra pasando la clase base a la declaracion\n",
        "class ServidorEmpresarial(Computadora):\n",
        "    def __init__(self):\n",
        "        print(\"Hola sevidor\")\n",
        "\n",
        "server = ServidorEmpresarial()\n",
        "server.marca = \"Sun micro Systems\"\n",
        "server.procesador = \"Intel i7\"\n",
        "print(server.to_string())\n"
      ],
      "execution_count": 24,
      "outputs": [
        {
          "output_type": "stream",
          "text": [
            "Hola sevidor\n",
            "En el metodo set de marca\n",
            "En el metodo set de procesador\n",
            "marca:Sun micro Systems Procesador:Intel i7\n"
          ],
          "name": "stdout"
        }
      ]
    }
  ]
}