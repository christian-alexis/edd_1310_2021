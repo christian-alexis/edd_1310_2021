{
  "nbformat": 4,
  "nbformat_minor": 0,
  "metadata": {
    "colab": {
      "name": "Tarea 11.ipynb",
      "provenance": [],
      "authorship_tag": "ABX9TyOLQry1c8lYJ6Cf3OrkRBUS",
      "include_colab_link": true
    },
    "kernelspec": {
      "name": "python3",
      "display_name": "Python 3"
    }
  },
  "cells": [
    {
      "cell_type": "markdown",
      "metadata": {
        "id": "view-in-github",
        "colab_type": "text"
      },
      "source": [
        "<a href=\"https://colab.research.google.com/github/christian-alexis/edd_1310_2021/blob/master/Tarea_11.ipynb\" target=\"_parent\"><img src=\"https://colab.research.google.com/assets/colab-badge.svg\" alt=\"Open In Colab\"/></a>"
      ]
    },
    {
      "cell_type": "code",
      "metadata": {
        "colab": {
          "base_uri": "https://localhost:8080/"
        },
        "id": "EbR7vwxWK3fW",
        "outputId": "8259dad4-1a2c-42e4-801e-e9e6c5cccfdb"
      },
      "source": [
        "\r\n",
        "def cuenta_regresiva(num):\r\n",
        "    if num >= 0:\r\n",
        "        print(num)\r\n",
        "        cuenta_regresiva(num-1)\r\n",
        "        \r\n",
        "    else:\r\n",
        "        print(\"FELIZ AÑO NUEVO\")\r\n",
        "\r\n",
        "def main():\r\n",
        "    cuenta_regresiva(10)\r\n",
        "\r\n",
        "main()"
      ],
      "execution_count": 1,
      "outputs": [
        {
          "output_type": "stream",
          "text": [
            "10\n",
            "9\n",
            "8\n",
            "7\n",
            "6\n",
            "5\n",
            "4\n",
            "3\n",
            "2\n",
            "1\n",
            "0\n",
            "FELIZ AÑO NUEVO\n"
          ],
          "name": "stdout"
        }
      ]
    }
  ]
}