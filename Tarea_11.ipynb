{
  "nbformat": 4,
  "nbformat_minor": 0,
  "metadata": {
    "colab": {
      "name": "Tarea 11.ipynb",
      "provenance": [],
      "authorship_tag": "ABX9TyMAtJb8Y92I0U5oxEeatrtD",
      "include_colab_link": true
    },
    "kernelspec": {
      "name": "python3",
      "display_name": "Python 3"
    }
  },
  "cells": [
    {
      "cell_type": "markdown",
      "metadata": {
        "id": "view-in-github",
        "colab_type": "text"
      },
      "source": [
        "<a href=\"https://colab.research.google.com/github/christian-alexis/edd_1310_2021/blob/master/Tarea_11.ipynb\" target=\"_parent\"><img src=\"https://colab.research.google.com/assets/colab-badge.svg\" alt=\"Open In Colab\"/></a>"
      ]
    },
    {
      "cell_type": "code",
      "metadata": {
        "colab": {
          "base_uri": "https://localhost:8080/"
        },
        "id": "EbR7vwxWK3fW",
        "outputId": "7f2de76f-5ee2-4773-b143-e8baad783036"
      },
      "source": [
        "\r\n",
        "def cuenta_regresiva(num):\r\n",
        "    if num >= 0:\r\n",
        "        cuenta_regresiva(num-1)\r\n",
        "        print(num)\r\n",
        "    else:\r\n",
        "        print(\"FELIZ AÑO NUEVO\")\r\n",
        "\r\n",
        "def main():\r\n",
        "    cuenta_regresiva(10)\r\n",
        "\r\n",
        "main()"
      ],
      "execution_count": null,
      "outputs": [
        {
          "output_type": "stream",
          "text": [
            "FELIZ AÑO NUEVO\n",
            "0\n",
            "1\n",
            "2\n",
            "3\n",
            "4\n",
            "5\n",
            "6\n",
            "7\n",
            "8\n",
            "9\n",
            "10\n"
          ],
          "name": "stdout"
        }
      ]
    }
  ]
}