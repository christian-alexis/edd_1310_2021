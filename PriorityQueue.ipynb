{
  "nbformat": 4,
  "nbformat_minor": 0,
  "metadata": {
    "colab": {
      "name": "PriorityQueue.ipynb",
      "provenance": [],
      "authorship_tag": "ABX9TyPQlE/ntwvuq1UBZMZOYF/J",
      "include_colab_link": true
    },
    "kernelspec": {
      "name": "python3",
      "display_name": "Python 3"
    }
  },
  "cells": [
    {
      "cell_type": "markdown",
      "metadata": {
        "id": "view-in-github",
        "colab_type": "text"
      },
      "source": [
        "<a href=\"https://colab.research.google.com/github/christian-alexis/edd_1310_2021/blob/master/PriorityQueue.ipynb\" target=\"_parent\"><img src=\"https://colab.research.google.com/assets/colab-badge.svg\" alt=\"Open In Colab\"/></a>"
      ]
    },
    {
      "cell_type": "code",
      "metadata": {
        "colab": {
          "base_uri": "https://localhost:8080/",
          "height": 35
        },
        "id": "laagiGhOm5ST",
        "outputId": "d3cf82c8-2199-42a6-b38b-ade87d155375"
      },
      "source": [
        "class PriorityQueue():\r\n",
        "    def __init__(self):\r\n",
        "        self.__data = list()\r\n",
        "\r\n",
        "    def is_empty (self):\r\n",
        "        return len(self.__data)==0\r\n",
        "\r\n",
        "    def length(self):\r\n",
        "        return len(self.__data)\r\n",
        "\r\n",
        "    def enqueue(self, value: str, priority: int) -> None:\r\n",
        "        self.__data.append((value, priority))\r\n",
        "        self.__data = reorder_queue(self.__data)\r\n",
        "\r\n",
        "    def dequeue (self):\r\n",
        "        if not self.is_empty():\r\n",
        "            return self.__data.pop(0) \r\n",
        "        else:\r\n",
        "            return None\r\n",
        "    def to_string (self):\r\n",
        "        cadena = \"\"\r\n",
        "        for elem in self.__data:\r\n",
        "            cadena = cadena + \"|\" + str(elem)\r\n",
        "        cadena = cadena +\"|\"\r\n",
        "        return cadena\r\n",
        "def reorder_queue(queue):\r\n",
        "    return sorted(queue, key=lambda v: v[1])\r\n",
        "\r\n",
        "\r\n",
        "barco = PriorityQueue()\r\n",
        "barco.enqueue(\"Maestre\", 4)\r\n",
        "barco.enqueue(\"Niños\", 2)\r\n",
        "barco.enqueue(\"Mecanico\", 4)\r\n",
        "barco.enqueue(\"Hombres\", 3)\r\n",
        "barco.enqueue(\"Vigia\", 4)\r\n",
        "barco.enqueue(\"capitan\", 5)\r\n",
        "barco.enqueue(\"Timonel\", 4)\r\n",
        "barco.enqueue(\"Mujeres\", 3)\r\n",
        "barco.enqueue(\"3ra edad \", 2)\r\n",
        "barco.enqueue(\"Niñas\", 1)\r\n",
        "barco.to_string()"
      ],
      "execution_count": 52,
      "outputs": [
        {
          "output_type": "execute_result",
          "data": {
            "application/vnd.google.colaboratory.intrinsic+json": {
              "type": "string"
            },
            "text/plain": [
              "\"|('Niñas', 1)|('Niños', 2)|('3ra edad ', 2)|('Hombres', 3)|('Mujeres', 3)|('Maestre', 4)|('Mecanico', 4)|('Vigia', 4)|('Timonel', 4)|('capitan', 5)|\""
            ]
          },
          "metadata": {
            "tags": []
          },
          "execution_count": 52
        }
      ]
    }
  ]
}