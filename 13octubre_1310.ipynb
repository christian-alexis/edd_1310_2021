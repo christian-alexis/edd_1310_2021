{
  "nbformat": 4,
  "nbformat_minor": 0,
  "metadata": {
    "colab": {
      "name": "13octubre_1310.ipynb",
      "provenance": [],
      "authorship_tag": "ABX9TyNYvnAMWinjkBUTlVh5BmAB",
      "include_colab_link": true
    },
    "kernelspec": {
      "name": "python3",
      "display_name": "Python 3"
    }
  },
  "cells": [
    {
      "cell_type": "markdown",
      "metadata": {
        "id": "view-in-github",
        "colab_type": "text"
      },
      "source": [
        "<a href=\"https://colab.research.google.com/github/christian-alexis/edd_1310_2021/blob/master/13octubre_1310.ipynb\" target=\"_parent\"><img src=\"https://colab.research.google.com/assets/colab-badge.svg\" alt=\"Open In Colab\"/></a>"
      ]
    },
    {
      "cell_type": "code",
      "metadata": {
        "id": "jcZOM50yvhBN",
        "outputId": "12be5fbf-e5c2-4a52-b9de-8385ea2d65b5",
        "colab": {
          "base_uri": "https://localhost:8080/",
          "height": 105
        }
      },
      "source": [
        "alumno = { \n",
        "          \"num_cta\" : 303030303 ,\n",
        "          \"carrera\" : \"ICO\",\n",
        "          \"promedio\" : 9.8,\n",
        "          \"materias\" :[\"EDD\",\"CyP\",\"Calidad\",\"Emprendimiento\"],\n",
        "          \"direccion\" : { \n",
        "                            \"calle\":\"rancho seco\",\n",
        "                            \"numero\" : 23 ,\n",
        "                            \"delegacion\" : \"Neza\",\n",
        "                            \"estado\" : {\n",
        "                                        \"id\" : 15 ,\n",
        "                                        \"nombre\" : \"Estado de Máxico\" ,\n",
        "                                        \"nombre_corto\" : \"EdoMex\"\n",
        "                                        } ,\n",
        "                            \"CP\":57170\n",
        "\n",
        "                        } \n",
        "          }\n",
        "print(alumno)\n",
        "alumno['carrera'] = \"ingenieria en computación\"\n",
        "print(alumno)\n",
        "alumno['nombre_completo'] = {'primer' : 'Juan' ,\n",
        "                             'segundo' : 'Pedro' ,\n",
        "                              'paterno' : 'Perez' ,\n",
        "                              'materno' : 'Gomez'}\n",
        "alumno['semestre'] = 3\n",
        "print(alumno)\n",
        "print(f\"{alumno['nombre_completo']['primer']}{alumno['nombre_completo']['segundo']}\")\n",
        "\n",
        " \n"
      ],
      "execution_count": 10,
      "outputs": [
        {
          "output_type": "stream",
          "text": [
            "{'num_cta': 303030303, 'carrera': 'ICO', 'promedio': 9.8, 'materias': ['EDD', 'CyP', 'Calidad', 'Emprendimiento'], 'direccion': {'calle': 'rancho seco', 'numero': 23, 'delegacion': 'Neza', 'estado': {'id': 15, 'nombre': 'Estado de Máxico', 'nombre_corto': 'EdoMex'}, 'CP': 57170}}\n",
            "{'num_cta': 303030303, 'carrera': 'ingenieria en computación', 'promedio': 9.8, 'materias': ['EDD', 'CyP', 'Calidad', 'Emprendimiento'], 'direccion': {'calle': 'rancho seco', 'numero': 23, 'delegacion': 'Neza', 'estado': {'id': 15, 'nombre': 'Estado de Máxico', 'nombre_corto': 'EdoMex'}, 'CP': 57170}}\n",
            "{'num_cta': 303030303, 'carrera': 'ingenieria en computación', 'promedio': 9.8, 'materias': ['EDD', 'CyP', 'Calidad', 'Emprendimiento'], 'direccion': {'calle': 'rancho seco', 'numero': 23, 'delegacion': 'Neza', 'estado': {'id': 15, 'nombre': 'Estado de Máxico', 'nombre_corto': 'EdoMex'}, 'CP': 57170}, 'nombre_completo': {'primer': 'Juan', 'segundo': 'Pedro', 'paterno': 'Perez', 'materno': 'Gomez'}, 'semestre': 3}\n",
            "JuanPedro\n"
          ],
          "name": "stdout"
        }
      ]
    },
    {
      "cell_type": "code",
      "metadata": {
        "id": "cfM-3OAPyjHW",
        "outputId": "dd6587e4-5c49-4c59-fe93-f01cfaeb28f0",
        "colab": {
          "base_uri": "https://localhost:8080/",
          "height": 428
        }
      },
      "source": [
        "# key() , values() y items()\n",
        "\n",
        "llaves = alumno.keys()\n",
        "print(llaves)\n",
        "for llave in llaves:\n",
        "     print(llave.upper())\n",
        "valores = alumno.values()\n",
        "for val in valores:\n",
        "    print(val)\n",
        "pares = alumno.items()\n",
        "print(pares)\n",
        "for elem in pares:\n",
        "  print(f'el campo{elem[0] } tiene el valor {elem[1]}')\n",
        "\n"
      ],
      "execution_count": 15,
      "outputs": [
        {
          "output_type": "stream",
          "text": [
            "dict_keys(['num_cta', 'carrera', 'promedio', 'materias', 'direccion', 'nombre_completo', 'semestre'])\n",
            "NUM_CTA\n",
            "CARRERA\n",
            "PROMEDIO\n",
            "MATERIAS\n",
            "DIRECCION\n",
            "NOMBRE_COMPLETO\n",
            "SEMESTRE\n",
            "303030303\n",
            "ingenieria en computación\n",
            "9.8\n",
            "['EDD', 'CyP', 'Calidad', 'Emprendimiento']\n",
            "{'calle': 'rancho seco', 'numero': 23, 'delegacion': 'Neza', 'estado': {'id': 15, 'nombre': 'Estado de Máxico', 'nombre_corto': 'EdoMex'}, 'CP': 57170}\n",
            "{'primer': 'Juan', 'segundo': 'Pedro', 'paterno': 'Perez', 'materno': 'Gomez'}\n",
            "3\n",
            "dict_items([('num_cta', 303030303), ('carrera', 'ingenieria en computación'), ('promedio', 9.8), ('materias', ['EDD', 'CyP', 'Calidad', 'Emprendimiento']), ('direccion', {'calle': 'rancho seco', 'numero': 23, 'delegacion': 'Neza', 'estado': {'id': 15, 'nombre': 'Estado de Máxico', 'nombre_corto': 'EdoMex'}, 'CP': 57170}), ('nombre_completo', {'primer': 'Juan', 'segundo': 'Pedro', 'paterno': 'Perez', 'materno': 'Gomez'}), ('semestre', 3)])\n",
            "el camponum_cta tiene el valor 303030303\n",
            "el campocarrera tiene el valor ingenieria en computación\n",
            "el campopromedio tiene el valor 9.8\n",
            "el campomaterias tiene el valor ['EDD', 'CyP', 'Calidad', 'Emprendimiento']\n",
            "el campodireccion tiene el valor {'calle': 'rancho seco', 'numero': 23, 'delegacion': 'Neza', 'estado': {'id': 15, 'nombre': 'Estado de Máxico', 'nombre_corto': 'EdoMex'}, 'CP': 57170}\n",
            "el camponombre_completo tiene el valor {'primer': 'Juan', 'segundo': 'Pedro', 'paterno': 'Perez', 'materno': 'Gomez'}\n",
            "el camposemestre tiene el valor 3\n"
          ],
          "name": "stdout"
        }
      ]
    },
    {
      "cell_type": "code",
      "metadata": {
        "id": "LPpLUUn-1CZs",
        "outputId": "9e04e7b2-3664-43ab-e945-b68489e758e0",
        "colab": {
          "base_uri": "https://localhost:8080/",
          "height": 34
        }
      },
      "source": [
        "#Concatenar diccionarios\n",
        "\n",
        "computadora = {\"procesador\": \"intel\",\"ram\": \"Kingston  120GB\"}\n",
        "otros= {\"monito\": \"LG49\\\"\", \"hd\": \"Toshiba 1TB\"}\n",
        "computadora.update(otros)\n",
        "print(computadora)"
      ],
      "execution_count": 16,
      "outputs": [
        {
          "output_type": "stream",
          "text": [
            "{'procesador': 'intel', 'ram': 'Kingston  120GB', 'monito': 'LG49\"', 'hd': 'Toshiba 1TB'}\n"
          ],
          "name": "stdout"
        }
      ]
    },
    {
      "cell_type": "markdown",
      "metadata": {
        "id": "uuin2xCA2rAc"
      },
      "source": [
        "# Funciones \n",
        "- unidades de codigo reutilizable\n",
        "- es una mecanismo de organizacion de codigo\n",
        "-Una funcion toma de 0 a n parametros de entrada \n",
        "-Tiene una sola salida(return) de cualquier tipo de dato\n",
        "- solo puede hacer 2 cosas:\n",
        "       -definirla\n",
        "       -llamarla\n",
        "- Se definen con la palabra reservada def "
      ]
    },
    {
      "cell_type": "code",
      "metadata": {
        "id": "MWCd_1Mi3vec",
        "outputId": "0ad5485c-6202-4e58-9572-abd6174c4bf6",
        "colab": {
          "base_uri": "https://localhost:8080/",
          "height": 170
        }
      },
      "source": [
        "def sumar(x,y):\n",
        "    resultado = x + y \n",
        "    return resultado\n",
        "    \n",
        "def saludar(nombre):\n",
        "     print(f\"hola {nombre}, como estas\")\n",
        "     return None #no regresa nada\n",
        "\n",
        "# procesar None\n",
        "\n",
        "def multiplicar (valor, veces):\n",
        "    if valor !=None:\n",
        "        c= valor * veces\n",
        "    else:\n",
        "      c=\"operacion no valida\"\n",
        "\n",
        "    return c\n",
        "\n",
        "\n",
        "\n",
        "def operacion (a, b, c):\n",
        "    res =a + (b/c)\n",
        "    return res\n",
        "\n",
        "\n",
        "\n",
        "\n",
        "\n",
        "c=sumar(3,7)\n",
        "print(c)\n",
        "saludar(\"Jesus\")\n",
        "print(sumar(10,5))\n",
        "print(sumar(2,6))\n",
        "print(multiplicar(5,6))\n",
        "print(multiplicar(None,6))\n",
        "print(operacion(2,9,3))\n",
        "print(operacion(2,3,9))\n",
        "print(operacion(a=2,c=3,b=9))\n",
        "\n",
        "\n",
        "\n",
        "#print(saludar('jose')) # regresa nada \n",
        "\n",
        " \n",
        "\n",
        "        "
      ],
      "execution_count": 36,
      "outputs": [
        {
          "output_type": "stream",
          "text": [
            "10\n",
            "hola Jesus, como estas\n",
            "15\n",
            "8\n",
            "30\n",
            "operacion no valida\n",
            "5.0\n",
            "2.3333333333333335\n",
            "5.0\n"
          ],
          "name": "stdout"
        }
      ]
    },
    {
      "cell_type": "code",
      "metadata": {
        "id": "o0LloSnU-i7X",
        "outputId": "961c215c-f050-46f9-f0e3-c6fc718b81e8",
        "colab": {
          "base_uri": "https://localhost:8080/",
          "height": 272
        }
      },
      "source": [
        "# valores por defecto \n",
        "def comanda( primer , fuerte , postre = \"galleta de animalito\" ):\n",
        "  print(f'De entrada pidio:{primer}')\n",
        "  print(f'De plato fuerte:{fuerte}')\n",
        "  print(f'Postre :{postre}')\n",
        "\n",
        "# argumentos posicionales con tuplas *\n",
        "def comanda_2( *opciones ):\n",
        "  print(opciones)\n",
        "  print(f'De entrada pidio:{ opciones[0]}')\n",
        "  print(f'De plato fuerte:{opciones[1]}')\n",
        "  print(f'Postre :{opciones[2]}')\n",
        "  print('\\nIndicaciones extras:')\n",
        "  for ind in opciones[3::] :\n",
        "    print(f'\\t {ind}')\n",
        "\n",
        "comanda (\"sopa aguada\" , \"tortas de papa\" , \"galleta de limon\")\n",
        "comanda (\"sopa aguada\" , \"tortas de papa\")\n",
        "comanda_2('sopa aguada' , 'tortas de papa' , 'gelatina de limon' , 'las tortas bien doradas' , 'traer dos limones' , \"Agua con hielos\")"
      ],
      "execution_count": 54,
      "outputs": [
        {
          "output_type": "stream",
          "text": [
            "De entrada pidio:sopa aguada\n",
            "De plato fuerte:tortas de papa\n",
            "Postre :galleta de limon\n",
            "De entrada pidio:sopa aguada\n",
            "De plato fuerte:tortas de papa\n",
            "Postre :galleta de animalito\n",
            "('sopa aguada', 'tortas de papa', 'gelatina de limon', 'las tortas bien doradas', 'traer dos limones', 'Agua y hielos')\n",
            "De entrada pidio:sopa aguada\n",
            "De plato fuerte:tortas de papa\n",
            "Postre :gelatina de limon\n",
            "\n",
            "Indicaciones extras:\n",
            "\t las tortas bien doradas\n",
            "\t traer dos limones\n",
            "\t Agua y hielos\n"
          ],
          "name": "stdout"
        }
      ]
    },
    {
      "cell_type": "code",
      "metadata": {
        "id": "sG4OkZQHCabe",
        "outputId": "84f2e092-b6f2-4c91-8cb2-e550a3db0f38",
        "colab": {
          "base_uri": "https://localhost:8080/",
          "height": 156
        }
      },
      "source": [
        "# argumentos  posicionales con diccionarios **\n",
        "def comanda_3( **opciones ) :\n",
        "  print(opciones )\n",
        "  for op in opciones.items():\n",
        "    print(f\"{op[0]} -> {op[1]}\")\n",
        "comanda_3(primer='sopa aguada' , fuerte='tortas de papa' , postre='gelatina de limon' ,\n",
        "          Extra1='las tortas bien doradas' , Extra2='traer dos limones' , Extra3=\"vaso con agua y hielos\")"
      ],
      "execution_count": 56,
      "outputs": [
        {
          "output_type": "stream",
          "text": [
            "{'primer': 'sopa aguada', 'fuerte': 'tortas de papa', 'postre': 'gelatina de limon', 'Extra1': 'las tortas bien doradas', 'Extra2': 'traer dos limones', 'Extra3': 'vaso con agua y hielos'}\n",
            "primer -> sopa aguada\n",
            "fuerte -> tortas de papa\n",
            "postre -> gelatina de limon\n",
            "Extra1 -> las tortas bien doradas\n",
            "Extra2 -> traer dos limones\n",
            "Extra3 -> vaso con agua y hielos\n"
          ],
          "name": "stdout"
        }
      ]
    }
  ]
}