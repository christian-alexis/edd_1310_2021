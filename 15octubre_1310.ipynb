{
  "nbformat": 4,
  "nbformat_minor": 0,
  "metadata": {
    "colab": {
      "name": "15octubre_1310.ipynb",
      "provenance": [],
      "authorship_tag": "ABX9TyMA4U2Rj3JZTxAo36/Aural",
      "include_colab_link": true
    },
    "kernelspec": {
      "name": "python3",
      "display_name": "Python 3"
    }
  },
  "cells": [
    {
      "cell_type": "markdown",
      "metadata": {
        "id": "view-in-github",
        "colab_type": "text"
      },
      "source": [
        "<a href=\"https://colab.research.google.com/github/christian-alexis/edd_1310_2021/blob/master/15octubre_1310.ipynb\" target=\"_parent\"><img src=\"https://colab.research.google.com/assets/colab-badge.svg\" alt=\"Open In Colab\"/></a>"
      ]
    },
    {
      "cell_type": "code",
      "metadata": {
        "id": "mtf0eZ8t9g1M"
      },
      "source": [
        ""
      ],
      "execution_count": null,
      "outputs": []
    },
    {
      "cell_type": "markdown",
      "metadata": {
        "id": "LRalfJGRB0Cp"
      },
      "source": [
        "# Modulos \n",
        "Son recursos reutilizables que contienen \n",
        "varias funciones que pueden ser importadas a tu codigo.\n",
        " "
      ]
    },
    {
      "cell_type": "code",
      "metadata": {
        "id": "egX-KZUXCDrX",
        "outputId": "fc2aac50-1f99-42c4-abdb-ec197e68e73c",
        "colab": {
          "base_uri": "https://localhost:8080/",
          "height": 52
        }
      },
      "source": [
        "\"\"\"\n",
        "import mi_modulo\n",
        "\n",
        "x =  mi_modulo.sumar(4,7)\n",
        "\n",
        "print(x)\n",
        "\n",
        "print(mi_modulo.mmultiplicar(3,5))\n",
        "\n",
        "\n",
        "\"\"\""
      ],
      "execution_count": 14,
      "outputs": [
        {
          "output_type": "execute_result",
          "data": {
            "application/vnd.google.colaboratory.intrinsic+json": {
              "type": "string"
            },
            "text/plain": [
              "'\\nimport mi_modulo\\n\\nx =  mi_modulo.sumar(4,7)\\n\\nprint(x)\\n\\nprint(mi_modulo.mmultiplicar(3,5))\\n\\n\\n'"
            ]
          },
          "metadata": {
            "tags": []
          },
          "execution_count": 14
        }
      ]
    },
    {
      "cell_type": "code",
      "metadata": {
        "id": "rxIIGhxIKT1D",
        "outputId": "2ef3e8cb-4f6b-4b1e-ebcf-333f3cbf0ec1",
        "colab": {
          "base_uri": "https://localhost:8080/",
          "height": 51
        }
      },
      "source": [
        "from mi_modulo import sumar, dividir \n",
        "\n",
        "print(sumar(4,7))\n",
        "print(dividir(4,11))\n"
      ],
      "execution_count": 16,
      "outputs": [
        {
          "output_type": "stream",
          "text": [
            "11\n",
            "0.36363636363636365\n"
          ],
          "name": "stdout"
        }
      ]
    },
    {
      "cell_type": "code",
      "metadata": {
        "id": "GTFLRE1KLPkE",
        "outputId": "2205f772-3c8e-4cc8-db1d-81a14f661aa2",
        "colab": {
          "base_uri": "https://localhost:8080/",
          "height": 51
        }
      },
      "source": [
        "# Se le pone un alias a el modulo \n",
        "import mi_modulo as patito\n",
        "\n",
        "print(patito.sumar(4,6))\n",
        "print(patito.mmultiplicar(4,6))"
      ],
      "execution_count": 20,
      "outputs": [
        {
          "output_type": "stream",
          "text": [
            "10\n",
            "24\n"
          ],
          "name": "stdout"
        }
      ]
    },
    {
      "cell_type": "code",
      "metadata": {
        "id": "F878o0sFN_pB",
        "outputId": "8270250e-fa71-404f-9c32-757b9ad0cf9e",
        "colab": {
          "base_uri": "https://localhost:8080/",
          "height": 275
        }
      },
      "source": [
        "pip install joke-generator"
      ],
      "execution_count": 23,
      "outputs": [
        {
          "output_type": "stream",
          "text": [
            "Collecting joke-generator\n",
            "  Downloading https://files.pythonhosted.org/packages/95/e5/de76c4aff315ad38ab69cd25ea942250a51008e910905c1f8ef80265b15b/joke_generator-1.0.1.tar.gz\n",
            "Requirement already satisfied: requests>=2.22.0 in /usr/local/lib/python3.6/dist-packages (from joke-generator) (2.23.0)\n",
            "Requirement already satisfied: urllib3!=1.25.0,!=1.25.1,<1.26,>=1.21.1 in /usr/local/lib/python3.6/dist-packages (from requests>=2.22.0->joke-generator) (1.24.3)\n",
            "Requirement already satisfied: idna<3,>=2.5 in /usr/local/lib/python3.6/dist-packages (from requests>=2.22.0->joke-generator) (2.10)\n",
            "Requirement already satisfied: certifi>=2017.4.17 in /usr/local/lib/python3.6/dist-packages (from requests>=2.22.0->joke-generator) (2020.6.20)\n",
            "Requirement already satisfied: chardet<4,>=3.0.2 in /usr/local/lib/python3.6/dist-packages (from requests>=2.22.0->joke-generator) (3.0.4)\n",
            "Building wheels for collected packages: joke-generator\n",
            "  Building wheel for joke-generator (setup.py) ... \u001b[?25l\u001b[?25hdone\n",
            "  Created wheel for joke-generator: filename=joke_generator-1.0.1-cp36-none-any.whl size=2075 sha256=05fef010aa2ac4e4ef739f4b4736fc55389365f47a7ebc6ca81dbeb9af698f0b\n",
            "  Stored in directory: /root/.cache/pip/wheels/b1/e1/1c/42a5a669d05834c31aab52f6f87b1c7d50718f7669d51bd347\n",
            "Successfully built joke-generator\n",
            "Installing collected packages: joke-generator\n",
            "Successfully installed joke-generator-1.0.1\n"
          ],
          "name": "stdout"
        }
      ]
    },
    {
      "cell_type": "code",
      "metadata": {
        "id": "bFTtr7E5PqDa",
        "outputId": "7fc43b85-343c-4e67-fa1f-c12334c339e4",
        "colab": {
          "base_uri": "https://localhost:8080/",
          "height": 35
        }
      },
      "source": [
        "#modulos\n",
        "from joke_generator import generate\n",
        "\n",
        "generate()"
      ],
      "execution_count": 27,
      "outputs": [
        {
          "output_type": "execute_result",
          "data": {
            "application/vnd.google.colaboratory.intrinsic+json": {
              "type": "string"
            },
            "text/plain": [
              "'My son is studying to be a surgeon, I just hope he makes the cut.'"
            ]
          },
          "metadata": {
            "tags": []
          },
          "execution_count": 27
        }
      ]
    },
    {
      "cell_type": "markdown",
      "metadata": {
        "id": "KEZFFaraSUEd"
      },
      "source": [
        "# Archivos \n",
        "\n",
        "-open (str,str)\n",
        "\n",
        "      1. Nombre o ruta del archivo\n",
        "      2. Dos carateres\n",
        "\n",
        "       - modulo de apertuara(read, write, a apertura al final si existe y x apertura al final si el archivo no existe)\n",
        "       -Formato del archivo (texto o binario)"
      ]
    },
    {
      "cell_type": "code",
      "metadata": {
        "id": "HajDYqUOSu8X"
      },
      "source": [
        "archivo = open(\"saludo.tx\",\"wt\")\n",
        "archivo.write(\"Hola mundo \\n ola K aze\")\n",
        "archivo.close()"
      ],
      "execution_count": 28,
      "outputs": []
    },
    {
      "cell_type": "code",
      "metadata": {
        "id": "5lAeCw5qZm1R",
        "outputId": "24f0a227-f6fd-4afd-bf33-a9eb9c9f1088",
        "colab": {
          "base_uri": "https://localhost:8080/",
          "height": 153
        }
      },
      "source": [
        "otro = open('./sample_data/anscombe.json' , 'rt')\n",
        "datos = otro.read()\n",
        "#print(datos)\n",
        "otro.close()\n",
        "arch = open(\"frutas.txt\" , 'rt')\n",
        "data = \"ppp\"\n",
        "while (data != ''):\n",
        "  data = arch.readline()\n",
        "  print(data)\n",
        "arch.close\n",
        "arch = open('frutas.txt','rt')\n",
        "list_frutas = arch.readlines()\n",
        "print(list_frutas)\n",
        "arch.close()\n"
      ],
      "execution_count": 50,
      "outputs": [
        {
          "output_type": "stream",
          "text": [
            "mazana,pera ,  kiwi   , agucate \n",
            "\n",
            "limon,   naranja\n",
            "\n",
            "sandia   , papaya\n",
            "\n",
            "\n",
            "['mazana,pera ,  kiwi   , agucate \\n', 'limon,   naranja\\n', 'sandia   , papaya\\n']\n"
          ],
          "name": "stdout"
        }
      ]
    },
    {
      "cell_type": "code",
      "metadata": {
        "id": "8MED2jacWYiA"
      },
      "source": [
        "help(otro)\n"
      ],
      "execution_count": null,
      "outputs": []
    }
  ]
}