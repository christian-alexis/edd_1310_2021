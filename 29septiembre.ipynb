{
  "nbformat": 4,
  "nbformat_minor": 0,
  "metadata": {
    "colab": {
      "name": "Untitled0.ipynb",
      "provenance": [],
      "authorship_tag": "ABX9TyNF1+a01BA3d5FAr1bcRkD/",
      "include_colab_link": true
    },
    "kernelspec": {
      "name": "python3",
      "display_name": "Python 3"
    }
  },
  "cells": [
    {
      "cell_type": "markdown",
      "metadata": {
        "id": "view-in-github",
        "colab_type": "text"
      },
      "source": [
        "<a href=\"https://colab.research.google.com/github/christian-alexis/edd_1310_2021/blob/master/29septiembre.ipynb\" target=\"_parent\"><img src=\"https://colab.research.google.com/assets/colab-badge.svg\" alt=\"Open In Colab\"/></a>"
      ]
    },
    {
      "cell_type": "code",
      "metadata": {
        "id": "flbCmjZNvoho"
      },
      "source": [
        "edad=10"
      ],
      "execution_count": 10,
      "outputs": []
    },
    {
      "cell_type": "code",
      "metadata": {
        "id": "jVxpMgAtvqsx",
        "outputId": "c0e15ec8-b0e4-47d5-ff1b-6649b8868067",
        "colab": {
          "base_uri": "https://localhost:8080/",
          "height": 51
        }
      },
      "source": [
        "print(edad)\n",
        "colores = ['rojo','azul','verde','morado','violeta']\n",
        "print(colores)"
      ],
      "execution_count": 75,
      "outputs": [
        {
          "output_type": "stream",
          "text": [
            "10\n",
            "['rojo', 'azul', 'verde', 'morado', 'violeta']\n"
          ],
          "name": "stdout"
        }
      ]
    },
    {
      "cell_type": "code",
      "metadata": {
        "id": "SD-T_eoawuK7",
        "outputId": "5b636c44-5a1c-4ca7-b530-469edd4cbe5a",
        "colab": {
          "base_uri": "https://localhost:8080/",
          "height": 34
        }
      },
      "source": [
        "print(colores[3])"
      ],
      "execution_count": 76,
      "outputs": [
        {
          "output_type": "stream",
          "text": [
            "morado\n"
          ],
          "name": "stdout"
        }
      ]
    },
    {
      "cell_type": "code",
      "metadata": {
        "id": "3f75-kyew8Hj",
        "outputId": "b0d98bc9-4978-491a-b7a1-50dfc7d90ee3",
        "colab": {
          "base_uri": "https://localhost:8080/",
          "height": 68
        }
      },
      "source": [
        "# sólo mostrar la 'ra' de morado ??????\n",
        "print(colores[3][2:4])\n",
        "nombre = \"Alberto\"\n",
        "print(nombre[0])\n",
        "print(nombre[0:3:1])\n"
      ],
      "execution_count": 77,
      "outputs": [
        {
          "output_type": "stream",
          "text": [
            "ra\n",
            "A\n",
            "Alb\n"
          ],
          "name": "stdout"
        }
      ]
    },
    {
      "cell_type": "markdown",
      "metadata": {
        "id": "xdx6hS9xyULQ"
      },
      "source": [
        "#For en python 3\n",
        "2 variables\n",
        "\n",
        "1.in range(ini,tope,incremento)\n",
        "\n",
        "2.in [iterador]"
      ]
    },
    {
      "cell_type": "code",
      "metadata": {
        "id": "Y_nFEMvxy59C",
        "outputId": "5cd9912b-b278-42d7-811e-b9d16d5b1062",
        "colab": {
          "base_uri": "https://localhost:8080/",
          "height": 102
        }
      },
      "source": [
        "\n",
        "for j in range(0,5,1):\n",
        "  print(colores[j])"
      ],
      "execution_count": 78,
      "outputs": [
        {
          "output_type": "stream",
          "text": [
            "rojo\n",
            "azul\n",
            "verde\n",
            "morado\n",
            "violeta\n"
          ],
          "name": "stdout"
        }
      ]
    },
    {
      "cell_type": "code",
      "metadata": {
        "id": "0E7UG8u_z1mN",
        "outputId": "27598ea7-efab-4fda-fad0-6a47f50ab6cb",
        "colab": {
          "base_uri": "https://localhost:8080/",
          "height": 102
        }
      },
      "source": [
        "for color in colores:\n",
        "  print(color)\n"
      ],
      "execution_count": 79,
      "outputs": [
        {
          "output_type": "stream",
          "text": [
            "rojo\n",
            "azul\n",
            "verde\n",
            "morado\n",
            "violeta\n"
          ],
          "name": "stdout"
        }
      ]
    },
    {
      "cell_type": "code",
      "metadata": {
        "id": "Dpxk0yMw0uhA",
        "outputId": "ba853fc1-9e1a-4ffd-adfe-45049cc4a5db",
        "colab": {
          "base_uri": "https://localhost:8080/",
          "height": 136
        }
      },
      "source": [
        "for j in range(0,len(nombre),1):\n",
        "  print(nombre[j])"
      ],
      "execution_count": 60,
      "outputs": [
        {
          "output_type": "stream",
          "text": [
            "A\n",
            "l\n",
            "b\n",
            "e\n",
            "r\n",
            "t\n",
            "o\n"
          ],
          "name": "stdout"
        }
      ]
    },
    {
      "cell_type": "code",
      "metadata": {
        "id": "_L3GZrE21D97",
        "outputId": "2f4aa5bc-b50f-480d-f929-0a898199a0e6",
        "colab": {
          "base_uri": "https://localhost:8080/",
          "height": 136
        }
      },
      "source": [
        "for nom in nombre:\n",
        "  print(nom)"
      ],
      "execution_count": 80,
      "outputs": [
        {
          "output_type": "stream",
          "text": [
            "A\n",
            "l\n",
            "b\n",
            "e\n",
            "r\n",
            "t\n",
            "o\n"
          ],
          "name": "stdout"
        }
      ]
    },
    {
      "cell_type": "markdown",
      "metadata": {
        "id": "8tKpHA8J_Wkq"
      },
      "source": [
        "# Que es Markdown\n",
        "Markdown en un lenguaje de marcado para documentar código. El objetivo es simplificar la escritura de lenguaje HTML. \n",
        "___\n",
        "**negritas**\n",
        "---\n",
        "\n",
        "o\n",
        "***\n",
        "\n",
        "Más infrmación en: [Github Cheatsheet markdown](https://github.com/adam-p/markdown-here/wiki/Markdown-Cheatsheet)\n",
        "____\n",
        "![FES](https://upload.wikimedia.org/wikipedia/commons/thumb/5/51/Aragon_Jonhy_corel.jpg/240px-Aragon_Jonhy_corel.jpg)\n",
        "\n",
        "![FES]()\n"
      ]
    }
  ]
}